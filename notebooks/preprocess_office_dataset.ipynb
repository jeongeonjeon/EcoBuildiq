{
 "cells": [
  {
   "cell_type": "code",
   "execution_count": 1,
   "id": "8184bab2",
   "metadata": {},
   "outputs": [
    {
     "name": "stdout",
     "output_type": "stream",
     "text": [
      "Original shape: (67455298, 5)\n"
     ]
    }
   ],
   "source": [
    "import pandas as pd\n",
    "import numpy as np\n",
    "from sklearn.preprocessing import StandardScaler\n",
    "import os\n",
    "\n",
    "# 1. Load merged dataset\n",
    "df = pd.read_parquet(\"../data/processed/merged_energy.parquet\")\n",
    "print(\"Original shape:\", df.shape)\n"
   ]
  },
  {
   "cell_type": "code",
   "execution_count": 2,
   "id": "32e3daa0",
   "metadata": {},
   "outputs": [
    {
     "name": "stdout",
     "output_type": "stream",
     "text": [
      "Filtered to office buildings: (67455298, 5)\n"
     ]
    }
   ],
   "source": [
    "\n",
    "# 2. Filter: office 건물만 (ASHRAE: 'primary_use', BDG2: 'building_type')\n",
    "if 'primary_use' in df.columns:\n",
    "    df = df[df['primary_use'].str.lower() == 'office']\n",
    "elif 'building_type' in df.columns:\n",
    "    df = df[df['building_type'].str.lower() == 'office']\n",
    "print(\"Filtered to office buildings:\", df.shape)\n"
   ]
  },
  {
   "cell_type": "code",
   "execution_count": 3,
   "id": "cf94a020",
   "metadata": {},
   "outputs": [],
   "source": [
    "\n",
    "# 3. Drop rows with essential nulls and sort\n",
    "df = df.dropna(subset=['value', 'timestamp', 'building_id'])\n",
    "df = df.sort_values('timestamp')\n"
   ]
  },
  {
   "cell_type": "code",
   "execution_count": 4,
   "id": "a141cd88",
   "metadata": {},
   "outputs": [],
   "source": [
    "\n",
    "# 4. 파생 변수 생성\n",
    "df['timestamp'] = pd.to_datetime(df['timestamp'])\n",
    "df['hour'] = df['timestamp'].dt.hour\n",
    "df['dayofweek'] = df['timestamp'].dt.dayofweek\n",
    "df['is_weekend'] = df['dayofweek'] >= 5\n",
    "df['holiday'] = df['timestamp'].dt.strftime('%Y-%m-%d').isin([\n",
    "    # 필요 시 휴일 리스트 입력\n",
    "]).astype(int)\n"
   ]
  },
  {
   "cell_type": "code",
   "execution_count": 5,
   "id": "07653926",
   "metadata": {},
   "outputs": [
    {
     "name": "stdout",
     "output_type": "stream",
     "text": [
      "Number of features used: 13\n",
      "Feature columns: ['hour', 'dayofweek', 'is_weekend', 'holiday', 'air_temperature', 'cloud_coverage', 'wind_speed', 'dew_temperature', 'precip_depth_1_hr', 'square_feet', 'year_built', 'floor_count', 'value']\n"
     ]
    }
   ],
   "source": [
    "# 5. Feature 선택 (base + optional)\n",
    "base_features = [\n",
    "    'hour', 'dayofweek', 'is_weekend', 'holiday',\n",
    "    'air_temperature', 'cloud_coverage', 'wind_speed',\n",
    "    'dew_temperature', 'precip_depth_1_hr',\n",
    "    'square_feet', 'year_built', 'floor_count',\n",
    "    # 'indoor_temperature', 'humidity', 'occupancy'  # 시뮬레이션 필요\n",
    "]\n",
    "\n",
    "optional_features = [\n",
    "    col for col in df.columns\n",
    "    if col not in base_features + ['timestamp', 'building_id', 'site_id', 'source', 'primary_use', 'building_type']\n",
    "    and pd.api.types.is_numeric_dtype(df[col])\n",
    "]\n",
    "\n",
    "feature_columns = base_features + optional_features\n",
    "print(\"Number of features used:\", len(feature_columns))\n",
    "print(\"Feature columns:\", feature_columns)"
   ]
  },
  {
   "cell_type": "code",
   "execution_count": 6,
   "id": "30a236e5",
   "metadata": {},
   "outputs": [
    {
     "ename": "KeyError",
     "evalue": "\"['air_temperature', 'cloud_coverage', 'wind_speed', 'dew_temperature', 'precip_depth_1_hr', 'square_feet', 'year_built', 'floor_count'] not in index\"",
     "output_type": "error",
     "traceback": [
      "\u001b[31m---------------------------------------------------------------------------\u001b[39m",
      "\u001b[31mKeyError\u001b[39m                                  Traceback (most recent call last)",
      "\u001b[36mCell\u001b[39m\u001b[36m \u001b[39m\u001b[32mIn[6]\u001b[39m\u001b[32m, line 4\u001b[39m\n\u001b[32m      2\u001b[39m scaler = StandardScaler()\n\u001b[32m      3\u001b[39m df_scaled = df.copy()\n\u001b[32m----> \u001b[39m\u001b[32m4\u001b[39m df_scaled[feature_columns] = scaler.fit_transform(\u001b[43mdf\u001b[49m\u001b[43m[\u001b[49m\u001b[43mfeature_columns\u001b[49m\u001b[43m]\u001b[49m)\n\u001b[32m      6\u001b[39m \u001b[38;5;66;03m# 8. Save\u001b[39;00m\n\u001b[32m      7\u001b[39m os.makedirs(\u001b[33m\"\u001b[39m\u001b[33m../data/processed\u001b[39m\u001b[33m\"\u001b[39m, exist_ok=\u001b[38;5;28;01mTrue\u001b[39;00m)\n",
      "\u001b[36mFile \u001b[39m\u001b[32m~/Desktop/MSc_Project/EcoBuildiq/venv/lib/python3.12/site-packages/pandas/core/frame.py:4113\u001b[39m, in \u001b[36mDataFrame.__getitem__\u001b[39m\u001b[34m(self, key)\u001b[39m\n\u001b[32m   4111\u001b[39m     \u001b[38;5;28;01mif\u001b[39;00m is_iterator(key):\n\u001b[32m   4112\u001b[39m         key = \u001b[38;5;28mlist\u001b[39m(key)\n\u001b[32m-> \u001b[39m\u001b[32m4113\u001b[39m     indexer = \u001b[38;5;28;43mself\u001b[39;49m\u001b[43m.\u001b[49m\u001b[43mcolumns\u001b[49m\u001b[43m.\u001b[49m\u001b[43m_get_indexer_strict\u001b[49m\u001b[43m(\u001b[49m\u001b[43mkey\u001b[49m\u001b[43m,\u001b[49m\u001b[43m \u001b[49m\u001b[33;43m\"\u001b[39;49m\u001b[33;43mcolumns\u001b[39;49m\u001b[33;43m\"\u001b[39;49m\u001b[43m)\u001b[49m[\u001b[32m1\u001b[39m]\n\u001b[32m   4115\u001b[39m \u001b[38;5;66;03m# take() does not accept boolean indexers\u001b[39;00m\n\u001b[32m   4116\u001b[39m \u001b[38;5;28;01mif\u001b[39;00m \u001b[38;5;28mgetattr\u001b[39m(indexer, \u001b[33m\"\u001b[39m\u001b[33mdtype\u001b[39m\u001b[33m\"\u001b[39m, \u001b[38;5;28;01mNone\u001b[39;00m) == \u001b[38;5;28mbool\u001b[39m:\n",
      "\u001b[36mFile \u001b[39m\u001b[32m~/Desktop/MSc_Project/EcoBuildiq/venv/lib/python3.12/site-packages/pandas/core/indexes/base.py:6212\u001b[39m, in \u001b[36mIndex._get_indexer_strict\u001b[39m\u001b[34m(self, key, axis_name)\u001b[39m\n\u001b[32m   6209\u001b[39m \u001b[38;5;28;01melse\u001b[39;00m:\n\u001b[32m   6210\u001b[39m     keyarr, indexer, new_indexer = \u001b[38;5;28mself\u001b[39m._reindex_non_unique(keyarr)\n\u001b[32m-> \u001b[39m\u001b[32m6212\u001b[39m \u001b[38;5;28;43mself\u001b[39;49m\u001b[43m.\u001b[49m\u001b[43m_raise_if_missing\u001b[49m\u001b[43m(\u001b[49m\u001b[43mkeyarr\u001b[49m\u001b[43m,\u001b[49m\u001b[43m \u001b[49m\u001b[43mindexer\u001b[49m\u001b[43m,\u001b[49m\u001b[43m \u001b[49m\u001b[43maxis_name\u001b[49m\u001b[43m)\u001b[49m\n\u001b[32m   6214\u001b[39m keyarr = \u001b[38;5;28mself\u001b[39m.take(indexer)\n\u001b[32m   6215\u001b[39m \u001b[38;5;28;01mif\u001b[39;00m \u001b[38;5;28misinstance\u001b[39m(key, Index):\n\u001b[32m   6216\u001b[39m     \u001b[38;5;66;03m# GH 42790 - Preserve name from an Index\u001b[39;00m\n",
      "\u001b[36mFile \u001b[39m\u001b[32m~/Desktop/MSc_Project/EcoBuildiq/venv/lib/python3.12/site-packages/pandas/core/indexes/base.py:6264\u001b[39m, in \u001b[36mIndex._raise_if_missing\u001b[39m\u001b[34m(self, key, indexer, axis_name)\u001b[39m\n\u001b[32m   6261\u001b[39m     \u001b[38;5;28;01mraise\u001b[39;00m \u001b[38;5;167;01mKeyError\u001b[39;00m(\u001b[33mf\u001b[39m\u001b[33m\"\u001b[39m\u001b[33mNone of [\u001b[39m\u001b[38;5;132;01m{\u001b[39;00mkey\u001b[38;5;132;01m}\u001b[39;00m\u001b[33m] are in the [\u001b[39m\u001b[38;5;132;01m{\u001b[39;00maxis_name\u001b[38;5;132;01m}\u001b[39;00m\u001b[33m]\u001b[39m\u001b[33m\"\u001b[39m)\n\u001b[32m   6263\u001b[39m not_found = \u001b[38;5;28mlist\u001b[39m(ensure_index(key)[missing_mask.nonzero()[\u001b[32m0\u001b[39m]].unique())\n\u001b[32m-> \u001b[39m\u001b[32m6264\u001b[39m \u001b[38;5;28;01mraise\u001b[39;00m \u001b[38;5;167;01mKeyError\u001b[39;00m(\u001b[33mf\u001b[39m\u001b[33m\"\u001b[39m\u001b[38;5;132;01m{\u001b[39;00mnot_found\u001b[38;5;132;01m}\u001b[39;00m\u001b[33m not in index\u001b[39m\u001b[33m\"\u001b[39m)\n",
      "\u001b[31mKeyError\u001b[39m: \"['air_temperature', 'cloud_coverage', 'wind_speed', 'dew_temperature', 'precip_depth_1_hr', 'square_feet', 'year_built', 'floor_count'] not in index\""
     ]
    }
   ],
   "source": [
    "\n",
    "# 7. 정규화\n",
    "scaler = StandardScaler()\n",
    "df_scaled = df.copy()\n",
    "df_scaled[feature_columns] = scaler.fit_transform(df[feature_columns])\n",
    "\n",
    "# 8. Save\n",
    "os.makedirs(\"../data/processed\", exist_ok=True)\n",
    "df_scaled.to_parquet(\"../data/processed/office_data_merged.parquet\", index=False)\n",
    "print(\"Saved to: office_data_merged.parquet\")\n"
   ]
  }
 ],
 "metadata": {
  "kernelspec": {
   "display_name": "venv",
   "language": "python",
   "name": "python3"
  },
  "language_info": {
   "codemirror_mode": {
    "name": "ipython",
    "version": 3
   },
   "file_extension": ".py",
   "mimetype": "text/x-python",
   "name": "python",
   "nbconvert_exporter": "python",
   "pygments_lexer": "ipython3",
   "version": "3.12.3"
  }
 },
 "nbformat": 4,
 "nbformat_minor": 5
}
